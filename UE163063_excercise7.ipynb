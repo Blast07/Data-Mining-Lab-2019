{
  "nbformat": 4,
  "nbformat_minor": 0,
  "metadata": {
    "colab": {
      "name": "UE163063_excercise7.ipynb",
      "version": "0.3.2",
      "provenance": []
    },
    "kernelspec": {
      "name": "python3",
      "display_name": "Python 3"
    }
  },
  "cells": [
    {
      "metadata": {
        "id": "X_WcxSSgBBiC",
        "colab_type": "code",
        "outputId": "89d80868-a265-417a-d4cb-859d5ebb5e76",
        "colab": {
          "base_uri": "https://localhost:8080/",
          "height": 122
        }
      },
      "cell_type": "code",
      "source": [
        "from google.colab import drive\n",
        "drive.mount('/gdrive')"
      ],
      "execution_count": 1,
      "outputs": [
        {
          "output_type": "stream",
          "text": [
            "Go to this URL in a browser: https://accounts.google.com/o/oauth2/auth?client_id=947318989803-6bn6qk8qdgf4n4g3pfee6491hc0brc4i.apps.googleusercontent.com&redirect_uri=urn%3Aietf%3Awg%3Aoauth%3A2.0%3Aoob&scope=email%20https%3A%2F%2Fwww.googleapis.com%2Fauth%2Fdocs.test%20https%3A%2F%2Fwww.googleapis.com%2Fauth%2Fdrive%20https%3A%2F%2Fwww.googleapis.com%2Fauth%2Fdrive.photos.readonly%20https%3A%2F%2Fwww.googleapis.com%2Fauth%2Fpeopleapi.readonly&response_type=code\n",
            "\n",
            "Enter your authorization code:\n",
            "··········\n",
            "Mounted at /gdrive\n"
          ],
          "name": "stdout"
        }
      ]
    },
    {
      "metadata": {
        "id": "WEyXnb_MAUON",
        "colab_type": "code",
        "colab": {}
      },
      "cell_type": "code",
      "source": [
        "import pandas as pd\n",
        "import numpy as np"
      ],
      "execution_count": 0,
      "outputs": []
    },
    {
      "metadata": {
        "id": "ohOmrx2WA-ys",
        "colab_type": "code",
        "colab": {}
      },
      "cell_type": "code",
      "source": [
        "colleges = pd.read_csv(\"/gdrive/My Drive/colleges.csv\")\n"
      ],
      "execution_count": 0,
      "outputs": []
    },
    {
      "metadata": {
        "id": "ceErPb-EB-Ba",
        "colab_type": "code",
        "outputId": "fc23833f-ac95-41d3-9101-ef335f652cc0",
        "colab": {
          "base_uri": "https://localhost:8080/",
          "height": 297
        }
      },
      "cell_type": "code",
      "source": [
        "colleges.describe()"
      ],
      "execution_count": 4,
      "outputs": [
        {
          "output_type": "execute_result",
          "data": {
            "text/html": [
              "<div>\n",
              "<style scoped>\n",
              "    .dataframe tbody tr th:only-of-type {\n",
              "        vertical-align: middle;\n",
              "    }\n",
              "\n",
              "    .dataframe tbody tr th {\n",
              "        vertical-align: top;\n",
              "    }\n",
              "\n",
              "    .dataframe thead th {\n",
              "        text-align: right;\n",
              "    }\n",
              "</style>\n",
              "<table border=\"1\" class=\"dataframe\">\n",
              "  <thead>\n",
              "    <tr style=\"text-align: right;\">\n",
              "      <th></th>\n",
              "      <th>Overall Rank</th>\n",
              "      <th>Undergrad. Enrollment</th>\n",
              "      <th>Student/faculty Ratio</th>\n",
              "      <th>Quality Rank</th>\n",
              "      <th>Cost Rank</th>\n",
              "    </tr>\n",
              "  </thead>\n",
              "  <tbody>\n",
              "    <tr>\n",
              "      <th>count</th>\n",
              "      <td>100.0000</td>\n",
              "      <td>100.000000</td>\n",
              "      <td>100.000000</td>\n",
              "      <td>100.000000</td>\n",
              "      <td>100.000000</td>\n",
              "    </tr>\n",
              "    <tr>\n",
              "      <th>mean</th>\n",
              "      <td>50.2100</td>\n",
              "      <td>3768.490000</td>\n",
              "      <td>9.970000</td>\n",
              "      <td>50.500000</td>\n",
              "      <td>49.970000</td>\n",
              "    </tr>\n",
              "    <tr>\n",
              "      <th>std</th>\n",
              "      <td>28.8277</td>\n",
              "      <td>4113.615487</td>\n",
              "      <td>2.384525</td>\n",
              "      <td>29.011492</td>\n",
              "      <td>29.006601</td>\n",
              "    </tr>\n",
              "    <tr>\n",
              "      <th>min</th>\n",
              "      <td>1.0000</td>\n",
              "      <td>67.000000</td>\n",
              "      <td>3.000000</td>\n",
              "      <td>1.000000</td>\n",
              "      <td>1.000000</td>\n",
              "    </tr>\n",
              "    <tr>\n",
              "      <th>25%</th>\n",
              "      <td>25.7500</td>\n",
              "      <td>1636.000000</td>\n",
              "      <td>9.000000</td>\n",
              "      <td>25.750000</td>\n",
              "      <td>24.750000</td>\n",
              "    </tr>\n",
              "    <tr>\n",
              "      <th>50%</th>\n",
              "      <td>50.5000</td>\n",
              "      <td>2300.000000</td>\n",
              "      <td>10.000000</td>\n",
              "      <td>50.500000</td>\n",
              "      <td>49.500000</td>\n",
              "    </tr>\n",
              "    <tr>\n",
              "      <th>75%</th>\n",
              "      <td>74.2500</td>\n",
              "      <td>4697.750000</td>\n",
              "      <td>11.000000</td>\n",
              "      <td>75.250000</td>\n",
              "      <td>74.250000</td>\n",
              "    </tr>\n",
              "    <tr>\n",
              "      <th>max</th>\n",
              "      <td>100.0000</td>\n",
              "      <td>29379.000000</td>\n",
              "      <td>18.000000</td>\n",
              "      <td>100.000000</td>\n",
              "      <td>100.000000</td>\n",
              "    </tr>\n",
              "  </tbody>\n",
              "</table>\n",
              "</div>"
            ],
            "text/plain": [
              "       Overall Rank  Undergrad. Enrollment  Student/faculty Ratio  \\\n",
              "count      100.0000             100.000000             100.000000   \n",
              "mean        50.2100            3768.490000               9.970000   \n",
              "std         28.8277            4113.615487               2.384525   \n",
              "min          1.0000              67.000000               3.000000   \n",
              "25%         25.7500            1636.000000               9.000000   \n",
              "50%         50.5000            2300.000000              10.000000   \n",
              "75%         74.2500            4697.750000              11.000000   \n",
              "max        100.0000           29379.000000              18.000000   \n",
              "\n",
              "       Quality Rank   Cost Rank  \n",
              "count    100.000000  100.000000  \n",
              "mean      50.500000   49.970000  \n",
              "std       29.011492   29.006601  \n",
              "min        1.000000    1.000000  \n",
              "25%       25.750000   24.750000  \n",
              "50%       50.500000   49.500000  \n",
              "75%       75.250000   74.250000  \n",
              "max      100.000000  100.000000  "
            ]
          },
          "metadata": {
            "tags": []
          },
          "execution_count": 4
        }
      ]
    },
    {
      "metadata": {
        "id": "qHWFG2VEDf2i",
        "colab_type": "code",
        "outputId": "b14fb6dd-313a-4b20-8dc8-9ad0a7cbc1dd",
        "colab": {
          "base_uri": "https://localhost:8080/",
          "height": 136
        }
      },
      "cell_type": "code",
      "source": [
        "colleges.columns"
      ],
      "execution_count": 5,
      "outputs": [
        {
          "output_type": "execute_result",
          "data": {
            "text/plain": [
              "Index(['Overall Rank', 'School', 'State', 'Undergrad. Enrollment',\n",
              "       'Admission Rate', '*SAT or ACT', 'Student/faculty Ratio',\n",
              "       '4-year Grad. Rate', '6-year Grad. Rate', 'Quality Rank', 'Total Costs',\n",
              "       'Cost After Need-based Aid', 'Need Met', 'Aid From Grants',\n",
              "       'Cost After Non-Need-Based Aid', 'Non-Need-Based Aid+', 'Average Debt',\n",
              "       'Cost Rank'],\n",
              "      dtype='object')"
            ]
          },
          "metadata": {
            "tags": []
          },
          "execution_count": 5
        }
      ]
    },
    {
      "metadata": {
        "id": "JQcZLRQfEfqv",
        "colab_type": "code",
        "colab": {}
      },
      "cell_type": "code",
      "source": [
        "#1. List the top 10 quality ranked colleges\n",
        "colleges = colleges.drop([100, 101])\n"
      ],
      "execution_count": 0,
      "outputs": []
    },
    {
      "metadata": {
        "id": "9JU1cthWFsHv",
        "colab_type": "code",
        "outputId": "fe43a52d-afd0-46dd-f070-d34f733d6679",
        "colab": {
          "base_uri": "https://localhost:8080/",
          "height": 204
        }
      },
      "cell_type": "code",
      "source": [
        "colleges.sort_values(by = \"Quality Rank\")[\"School\"][:10]"
      ],
      "execution_count": 7,
      "outputs": [
        {
          "output_type": "execute_result",
          "data": {
            "text/plain": [
              "2                          Williams College\n",
              "11    Massachusetts Institute of Technology\n",
              "6                           Yale University\n",
              "3                        Swarthmore College\n",
              "4                           Amherst College\n",
              "9                       Stanford University\n",
              "10                     Princeton University\n",
              "8                        Harvard University\n",
              "22               University of Pennsylvania\n",
              "0        California Institute of Technology\n",
              "Name: School, dtype: object"
            ]
          },
          "metadata": {
            "tags": []
          },
          "execution_count": 7
        }
      ]
    },
    {
      "metadata": {
        "id": "--OehjpuD5Gr",
        "colab_type": "code",
        "outputId": "e16fcc9e-ded7-41a5-a825-0a499121f17b",
        "colab": {
          "base_uri": "https://localhost:8080/",
          "height": 153
        }
      },
      "cell_type": "code",
      "source": [
        "#2 List all the colleges in California\n",
        "colleges[colleges.State == 'CA'][\"School\"]"
      ],
      "execution_count": 8,
      "outputs": [
        {
          "output_type": "execute_result",
          "data": {
            "text/plain": [
              "0     California Institute of Technology\n",
              "9                    Stanford University\n",
              "12                        Pomona College\n",
              "27             Claremont McKenna College\n",
              "51                   Harvey Mudd College\n",
              "70     University of Southern California\n",
              "76                       Scripps College\n",
              "Name: School, dtype: object"
            ]
          },
          "metadata": {
            "tags": []
          },
          "execution_count": 8
        }
      ]
    },
    {
      "metadata": {
        "id": "jv3jmPLXDsuX",
        "colab_type": "code",
        "colab": {}
      },
      "cell_type": "code",
      "source": [
        "#3 Which college has lowest average debt?\n",
        "def preprocess_cost(col):\n",
        "    for i in range(100):\n",
        "        temp = colleges.loc[i, col]\n",
        "        temp = temp[1:]\n",
        "        temp = \"\".join(temp.split(','))\n",
        "        temp = int(temp)\n",
        "        colleges.at[i,col] = temp\n",
        "preprocess_cost(\"Average Debt\")"
      ],
      "execution_count": 0,
      "outputs": []
    },
    {
      "metadata": {
        "id": "snm9WDgUMK6i",
        "colab_type": "code",
        "colab": {}
      },
      "cell_type": "code",
      "source": [
        "colleges[\"Average Debt\"] = pd.to_numeric(colleges[\"Average Debt\"])"
      ],
      "execution_count": 0,
      "outputs": []
    },
    {
      "metadata": {
        "id": "Y1cgxEHXI2xk",
        "colab_type": "code",
        "outputId": "4aa0c86e-569d-41eb-9dda-5933ab011a76",
        "colab": {
          "base_uri": "https://localhost:8080/",
          "height": 34
        }
      },
      "cell_type": "code",
      "source": [
        "i = colleges[\"Average Debt\"].idxmin()\n",
        "print(f\"college with lowest avg debt: {colleges.loc[i]['School']}\")  "
      ],
      "execution_count": 11,
      "outputs": [
        {
          "output_type": "stream",
          "text": [
            "college with lowest avg debt: Washington University\n"
          ],
          "name": "stdout"
        }
      ]
    },
    {
      "metadata": {
        "id": "e405Ri6FPj2G",
        "colab_type": "code",
        "outputId": "b3c87ca2-2765-4be4-8cd0-c212f5c6491d",
        "colab": {
          "base_uri": "https://localhost:8080/",
          "height": 204
        }
      },
      "cell_type": "code",
      "source": [
        "#List bottom 10 cost rank colleges\n",
        "colleges.sort_values(by = \"Cost Rank\").tail(10)[\"School\"]"
      ],
      "execution_count": 12,
      "outputs": [
        {
          "output_type": "execute_result",
          "data": {
            "text/plain": [
              "33                    Brown University\n",
              "26                   Dartmouth College\n",
              "22          University of Pennsylvania\n",
              "97    Rensselaer Polytechnic Institute\n",
              "40                  Cornell University\n",
              "99    The George Washington University\n",
              "32               Georgetown University\n",
              "36                  Middlebury College\n",
              "41                 Wesleyan University\n",
              "90                 New York University\n",
              "Name: School, dtype: object"
            ]
          },
          "metadata": {
            "tags": []
          },
          "execution_count": 12
        }
      ]
    },
    {
      "metadata": {
        "id": "nKZjwDOwQbk0",
        "colab_type": "code",
        "outputId": "9d96f055-62e8-4197-a393-35b51d417359",
        "colab": {
          "base_uri": "https://localhost:8080/",
          "height": 34
        }
      },
      "cell_type": "code",
      "source": [
        "#Among colleges having more than 2000 undergraduates, which has highest faculty/student ratio.\n",
        "i = colleges[colleges[\"Undergrad. Enrollment\"] > 2000][\"Student/faculty Ratio\"].idxmin()\n",
        "print(colleges.loc[i][\"School\"])"
      ],
      "execution_count": 13,
      "outputs": [
        {
          "output_type": "stream",
          "text": [
            "Rice University\n"
          ],
          "name": "stdout"
        }
      ]
    },
    {
      "metadata": {
        "id": "I9EaGHQOSezK",
        "colab_type": "code",
        "outputId": "e184f872-0f63-4bb2-f19a-d49ca14f38fb",
        "colab": {
          "base_uri": "https://localhost:8080/",
          "height": 34
        }
      },
      "cell_type": "code",
      "source": [
        "#Which college has aid in grant more than 80% and costliest in total cost\n",
        "#preprocessing Aid From Grants\n",
        "for i in range(len(colleges.index)):\n",
        "    temp = str(colleges.loc[i]['Aid From Grants'])\n",
        "    temp = int(temp[:-1])\n",
        "    colleges.at[i,'Aid From Grants'] = temp\n",
        "colleges['Aid From Grants'] = pd.to_numeric(colleges['Aid From Grants'])\n",
        "preprocess_cost(\"Total Costs\")\n",
        "colleges['Total Costs'] = pd.to_numeric(colleges['Total Costs'])\n",
        "\n",
        "i =  colleges[colleges['Aid From Grants']>80][\"Total Costs\"].idxmax()\n",
        "print(colleges.loc[i][\"School\"])"
      ],
      "execution_count": 14,
      "outputs": [
        {
          "output_type": "stream",
          "text": [
            "Brown University\n"
          ],
          "name": "stdout"
        }
      ]
    },
    {
      "metadata": {
        "id": "n0DG0_V2S2ki",
        "colab_type": "code",
        "outputId": "c2b134f1-8417-42e5-eac9-d03f0d3198b2",
        "colab": {
          "base_uri": "https://localhost:8080/",
          "height": 34
        }
      },
      "cell_type": "code",
      "source": [
        "#Among top 50 quality rank colleges, which has lowest total cost\n",
        "i = colleges[colleges[\"Quality Rank\"] <= 50][\"Total Costs\"].idxmin()\n",
        "print(colleges.loc[i][\"School\"])"
      ],
      "execution_count": 15,
      "outputs": [
        {
          "output_type": "stream",
          "text": [
            "Webb Institute\n"
          ],
          "name": "stdout"
        }
      ]
    }
  ]
}