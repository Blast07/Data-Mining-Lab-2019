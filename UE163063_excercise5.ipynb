{
  "nbformat": 4,
  "nbformat_minor": 0,
  "metadata": {
    "colab": {
      "name": "UE163063_excercise5.ipynb",
      "version": "0.3.2",
      "provenance": [],
      "collapsed_sections": []
    },
    "kernelspec": {
      "name": "python3",
      "display_name": "Python 3"
    }
  },
  "cells": [
    {
      "metadata": {
        "id": "b3CC6n0zvolF",
        "colab_type": "code",
        "colab": {}
      },
      "cell_type": "code",
      "source": [
        "import numpy as np"
      ],
      "execution_count": 0,
      "outputs": []
    },
    {
      "metadata": {
        "id": "-CaSmBL5ts8M",
        "colab_type": "text"
      },
      "cell_type": "markdown",
      "source": [
        "1.Create a function to check whether numpy array has Zero values or not."
      ]
    },
    {
      "metadata": {
        "id": "YjjAq-lttryq",
        "colab_type": "code",
        "outputId": "468cdeb4-a62e-40b9-e6c7-2e377d96fe8f",
        "colab": {
          "base_uri": "https://localhost:8080/",
          "height": 53
        }
      },
      "cell_type": "code",
      "source": [
        "def checkZero(arr):\n",
        "  if 0 in arr:\n",
        "      return True\n",
        "  else:\n",
        "      return False\n",
        "\n",
        "arr1 = np.array([[1,2,3],[6,0,7],[11,12,13]])\n",
        "arr2 = np.array([[4,5,6],[7,8,9],[10,11,12]])\n",
        "print(checkZero(arr1))\n",
        "print(checkZero(arr2))\n",
        "\n"
      ],
      "execution_count": 0,
      "outputs": [
        {
          "output_type": "stream",
          "text": [
            "True\n",
            "False\n"
          ],
          "name": "stdout"
        }
      ]
    },
    {
      "metadata": {
        "id": "UaNANaU5wLxA",
        "colab_type": "text"
      },
      "cell_type": "markdown",
      "source": [
        "2.Consider an array contains marks of students. Find the median and mean of students who got passing marks."
      ]
    },
    {
      "metadata": {
        "id": "vhA5A8NCwF1Q",
        "colab_type": "code",
        "outputId": "97b43dc9-3aff-486c-e6e7-a9e5285bbd00",
        "colab": {
          "base_uri": "https://localhost:8080/",
          "height": 53
        }
      },
      "cell_type": "code",
      "source": [
        "def meanAndMedian(arr,pass_marks):\n",
        "    r, = arr.shape\n",
        "    passed = []\n",
        "    for i in range(r):\n",
        "        if arr[i]>=pass_marks:\n",
        "            passed.append(arr[i])\n",
        "    passed = np.array(passed)\n",
        "    passed.sort()\n",
        "    mean = passed.mean()\n",
        "    l, = passed.shape\n",
        "    median = passed[l//2-1] if l%2==0 else passed[l//2]\n",
        "    return (mean, median)\n",
        "    \n",
        "arr = np.array([99,13,32,40,44,90,16,60,70,45]) \n",
        "mean, median =  meanAndMedian(arr, 40)\n",
        "print(f\"Mean:{mean}\\nMedian:{median}\")\n",
        "\n"
      ],
      "execution_count": 0,
      "outputs": [
        {
          "output_type": "stream",
          "text": [
            "Mean:64.0\n",
            "Median:60\n"
          ],
          "name": "stdout"
        }
      ]
    },
    {
      "metadata": {
        "id": "3frh5yNbyyOD",
        "colab_type": "text"
      },
      "cell_type": "markdown",
      "source": [
        "3. Consider an array containing date of birth of students (Use np.datetime64('2018-02-01')). Find the age of all students. If age is 18 label it First, if it is 19, label it Second, if it is 20, label it Third, if it is 21, label it Fourth."
      ]
    },
    {
      "metadata": {
        "id": "CQLmaQLuyvMt",
        "colab_type": "code",
        "outputId": "51bd24e4-3db2-4b49-870e-947b96ccf490",
        "colab": {
          "base_uri": "https://localhost:8080/",
          "height": 125
        }
      },
      "cell_type": "code",
      "source": [
        "def labelAge(dob):\n",
        "    labels = {18:'First',19:'Second',20:'Third',21:'Fourth'}\n",
        "    cur_date = np.datetime64('2019-02-11')\n",
        "    age = np.array(cur_date-dob)\n",
        "    age = np.array(age/365,int)\n",
        "    for a in age:\n",
        "        if labels.get(a):\n",
        "          print(f\"{a}:{labels[a]}\")\n",
        "    \n",
        "    \n",
        "\n",
        "dob = np.array(['2007-07-13', '1999-01-13', '1998-08-13', '1997-03-10', \n",
        "                '1999-03-10','1998-04-12','2000-01-01'], dtype='datetime64')\n",
        "labelAge(dob)\n",
        "\n"
      ],
      "execution_count": 0,
      "outputs": [
        {
          "output_type": "stream",
          "text": [
            "20:Third\n",
            "20:Third\n",
            "21:Fourth\n",
            "19:Second\n",
            "20:Third\n",
            "19:Second\n"
          ],
          "name": "stdout"
        }
      ]
    },
    {
      "metadata": {
        "id": "nsa8Invt2NKw",
        "colab_type": "text"
      },
      "cell_type": "markdown",
      "source": [
        "4.Create a function to sort 2d Array by a column."
      ]
    },
    {
      "metadata": {
        "id": "a0zwN-nV2Ls3",
        "colab_type": "code",
        "outputId": "07529050-78ff-465c-f8b4-81f02134e599",
        "colab": {
          "base_uri": "https://localhost:8080/",
          "height": 125
        }
      },
      "cell_type": "code",
      "source": [
        "def sortColum(arr, col_ind):\n",
        "    sort_ind = np.argsort(arr[:,col_ind])\n",
        "    return arr[sort_ind]\n",
        "  \n",
        "arr = np.array([[8,9,1],[7,6,3],[8,8,0],[2,0,1],[3,3,3],[1,7,8]])\n",
        "sorted_arr = sortColum(arr, 1)\n",
        "print(sorted_arr)\n",
        "\n"
      ],
      "execution_count": 0,
      "outputs": [
        {
          "output_type": "stream",
          "text": [
            "[[2 0 1]\n",
            " [3 3 3]\n",
            " [7 6 3]\n",
            " [1 7 8]\n",
            " [8 8 0]\n",
            " [8 9 1]]\n"
          ],
          "name": "stdout"
        }
      ]
    },
    {
      "metadata": {
        "id": "ZHCw8HyM616t",
        "colab_type": "text"
      },
      "cell_type": "markdown",
      "source": [
        "5. Create one hot encoding of an array. For example For an array([2, 3, 2, 2, 2, 1]) Output "
      ]
    },
    {
      "metadata": {
        "id": "ltZlwVLw6q0i",
        "colab_type": "code",
        "outputId": "4dea4d99-8b72-46e7-e1de-c36698cc70c4",
        "colab": {
          "base_uri": "https://localhost:8080/",
          "height": 125
        }
      },
      "cell_type": "code",
      "source": [
        "def oneHotEncoding(arr):\n",
        "    r, = arr.shape\n",
        "    max_val = arr.max()\n",
        "    oneHot = np.zeros((r,max_val),int)\n",
        "    for i in range(r):\n",
        "        oneHot[i,arr[i]-1] = 1\n",
        "    return oneHot\n",
        "\n",
        "oneHot = oneHotEncoding(np.array([2, 3, 2, 2, 2, 1]))\n",
        "print(oneHot)\n",
        "\n"
      ],
      "execution_count": 0,
      "outputs": [
        {
          "output_type": "stream",
          "text": [
            "[[0 1 0]\n",
            " [0 0 1]\n",
            " [0 1 0]\n",
            " [0 1 0]\n",
            " [0 1 0]\n",
            " [1 0 0]]\n"
          ],
          "name": "stdout"
        }
      ]
    },
    {
      "metadata": {
        "id": "J6Ai27Vz8sAX",
        "colab_type": "text"
      },
      "cell_type": "markdown",
      "source": [
        "6.Drop all missing values from an array Input: np.array([1,2,3,np.nan,5,6,7,np.nan]) Desired Output: array([ 1.,2.,3.,5.,6.,7.])"
      ]
    },
    {
      "metadata": {
        "id": "xjlSkclG8noK",
        "colab_type": "code",
        "outputId": "897971a8-3a0d-4b5d-ff79-5bc63347a762",
        "colab": {
          "base_uri": "https://localhost:8080/",
          "height": 35
        }
      },
      "cell_type": "code",
      "source": [
        "def dropMissing(arr):\n",
        "    r, = arr.shape\n",
        "    new_arr = []\n",
        "    for i in range(r):\n",
        "        if not np.isnan(arr[i]):\n",
        "            new_arr.append(arr[i])\n",
        "    new_arr = np.array(new_arr)\n",
        "    return new_arr\n",
        "\n",
        "arr = np.array([1,2,3,np.nan,5,6,7,np.nan])\n",
        "\n",
        "print(dropMissing(arr))\n",
        "\n"
      ],
      "execution_count": 0,
      "outputs": [
        {
          "output_type": "stream",
          "text": [
            "[1. 2. 3. 5. 6. 7.]\n"
          ],
          "name": "stdout"
        }
      ]
    },
    {
      "metadata": {
        "id": "u1ptBm5CBBR2",
        "colab_type": "text"
      },
      "cell_type": "markdown",
      "source": [
        "7.Find Local maxima from an array. Input: a = np.array([1, 3, 7, 1, 2, 6, 0, 1]) Desired Output: array([2, 5])"
      ]
    },
    {
      "metadata": {
        "id": "zGpmU4i3A9hf",
        "colab_type": "code",
        "outputId": "6ff2ddd5-3b77-4d20-a511-e32a35170a0a",
        "colab": {
          "base_uri": "https://localhost:8080/",
          "height": 35
        }
      },
      "cell_type": "code",
      "source": [
        "def localMaxima(arr):\n",
        "    r, = arr.shape\n",
        "    local_max = []\n",
        "    for i in range(r-1):\n",
        "        if(arr[i]>arr[i+1]):\n",
        "            local_max.append(i)\n",
        "    local_max = np.array(local_max,)\n",
        "    return local_max\n",
        "  \n",
        "arr = np.array([1,3,7,1,2,6,0,1,2,4,11,0])\n",
        "print(localMaxima(arr))\n",
        "        "
      ],
      "execution_count": 0,
      "outputs": [
        {
          "output_type": "stream",
          "text": [
            "[ 2  5 10]\n"
          ],
          "name": "stdout"
        }
      ]
    },
    {
      "metadata": {
        "id": "wkmE4fqRCGkY",
        "colab_type": "text"
      },
      "cell_type": "markdown",
      "source": [
        "8.From the given 1d array arr, generate a 2d matrix using strides,\n",
        "\n",
        "For example for an array ([ 0,  1,  2,  3,  4,  5,  6,  7,  8,  9, 10, 11, 12, 13, 14])with a window length of w=4 and strides of s=2, like [[0,1,2,3], [2,3,4,5], [4,5,6,7]..]\n",
        "\n",
        "w and s will be provided by user"
      ]
    },
    {
      "metadata": {
        "id": "hTD8IBVSCD9A",
        "colab_type": "code",
        "outputId": "859937ad-61c8-4033-9640-25d64607661c",
        "colab": {
          "base_uri": "https://localhost:8080/",
          "height": 197
        }
      },
      "cell_type": "code",
      "source": [
        "def generate2d(arr,w,s):\n",
        "    r, = arr.shape\n",
        "    arr2d = []\n",
        "    for i in range(0,r-w+1,s):\n",
        "        arr2d.append(arr[i:i+w])\n",
        "    arr2d = np.array(arr2d)\n",
        "    return arr2d\n",
        "  \n",
        "arr = input(\"Enter array values:\").split()\n",
        "arr = np.array(arr,int)\n",
        "w = int(input(\"Enter window size:\"))\n",
        "s = int(input(\"Enter strides:\"))\n",
        "\n",
        "arr2d = generate2d(arr,w,s)\n",
        "print(arr2d)\n",
        "        "
      ],
      "execution_count": 0,
      "outputs": [
        {
          "output_type": "stream",
          "text": [
            "Enter array values:0 1 2 3 4 5 6 7 8 9 10 11 12 13 14 15\n",
            "Enter window size:4\n",
            "Enter strides:2\n",
            "[[ 0  1  2  3]\n",
            " [ 2  3  4  5]\n",
            " [ 4  5  6  7]\n",
            " [ 6  7  8  9]\n",
            " [ 8  9 10 11]\n",
            " [10 11 12 13]\n",
            " [12 13 14 15]]\n"
          ],
          "name": "stdout"
        }
      ]
    }
  ]
}