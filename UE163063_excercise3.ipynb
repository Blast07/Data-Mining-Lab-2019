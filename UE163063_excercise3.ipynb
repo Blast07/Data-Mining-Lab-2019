{
  "nbformat": 4,
  "nbformat_minor": 0,
  "metadata": {
    "colab": {
      "name": "UE163063_excercise3.ipynb",
      "version": "0.3.2",
      "provenance": [],
      "collapsed_sections": []
    },
    "kernelspec": {
      "name": "python3",
      "display_name": "Python 3"
    }
  },
  "cells": [
    {
      "metadata": {
        "id": "yQOJikfWug0Y",
        "colab_type": "code",
        "outputId": "255797c1-41ea-4e5b-bcfb-e5d67c198303",
        "colab": {
          "base_uri": "https://localhost:8080/",
          "height": 139
        }
      },
      "cell_type": "code",
      "source": [
        "#Q1\n",
        "def cast(student):\n",
        "    student[1], student[2]= int(student[1]), int(student[2])\n",
        "    return student\n",
        "    \n",
        "students = [tuple(cast(input(f\"Student {i+1}:\").strip().split(',')))\n",
        "            for i in range(int(input(\"Enter number of students:\")))]\n",
        "\n",
        "students = sorted(students, key = lambda student:(student[0], \n",
        "                                                  student[1], student[2]))\n",
        "print(students)\n"
      ],
      "execution_count": 0,
      "outputs": [
        {
          "output_type": "stream",
          "text": [
            "Enter number of students:5\n",
            "Student 1:Tom,19,80\n",
            "Student 2:John,20,90\n",
            "Student 3:Jony,17,91\n",
            "Student 4:Jony,17,93\n",
            "Student 5:Json,21,85\n",
            "[('John', 20, 90), ('Jony', 17, 91), ('Jony', 17, 93), ('Json', 21, 85), ('Tom', 19, 80)]\n"
          ],
          "name": "stdout"
        }
      ]
    },
    {
      "metadata": {
        "id": "MrJbdI96xPt7",
        "colab_type": "code",
        "outputId": "5f741733-0421-459b-b505-44cf252b4f6d",
        "colab": {
          "base_uri": "https://localhost:8080/",
          "height": 121
        }
      },
      "cell_type": "code",
      "source": [
        "#Q2\n",
        "def max_sum(lists):\n",
        "    max_index = 0\n",
        "    max_val = -1000\n",
        "    for i,sub in enumerate(lists):\n",
        "      val = sum(sub)\n",
        "      if val > max_val:\n",
        "        max_val = val\n",
        "        max_index = i\n",
        "    return lists[max_index]\n",
        "  \n",
        "lists = [input(f\"enter list {i+1}:\").strip().split() \n",
        "         for i in range(int(input(\"Enter n:\")))]\n",
        "lists = [list(map(int,sub)) for sub in lists]\n",
        "print(f\"sublist with max sum:{max_sum(lists)}\")\n"
      ],
      "execution_count": 0,
      "outputs": [
        {
          "output_type": "stream",
          "text": [
            "Enter n:4\n",
            "enter list 1:1 2 3\n",
            "enter list 2:4 5 6\n",
            "enter list 3:10 11 12\n",
            "enter list 4:7 8 9\n",
            "sublist with max sum:[10, 11, 12]\n"
          ],
          "name": "stdout"
        }
      ]
    },
    {
      "metadata": {
        "id": "YnetjAESvykP",
        "colab_type": "code",
        "outputId": "38ae3cf7-558a-457d-9e4f-56fb379b3f79",
        "colab": {
          "base_uri": "https://localhost:8080/",
          "height": 69
        }
      },
      "cell_type": "code",
      "source": [
        "#Q3\n",
        "def chk_sublist(lis, sub):\n",
        "\n",
        "    for i in lis:\n",
        "      if i==sub:\n",
        "        return True\n",
        "      elif(type(i)==list):\n",
        "        if(chk_sublist(i, sub)):\n",
        "          return True\n",
        "    return False\n",
        "  \n",
        "  \n",
        "print(chk_sublist([[[1,2]]], [1,2]))\n",
        "print(chk_sublist([[[1],[2]]], [1,2]))\n",
        "print(chk_sublist([[[1,[1,2]]]], [1,2]))\n",
        "\n"
      ],
      "execution_count": 0,
      "outputs": [
        {
          "output_type": "stream",
          "text": [
            "True\n",
            "False\n",
            "True\n"
          ],
          "name": "stdout"
        }
      ]
    }
  ]
}