{
  "nbformat": 4,
  "nbformat_minor": 0,
  "metadata": {
    "colab": {
      "name": "UE163063_excercise9.ipynb",
      "version": "0.3.2",
      "provenance": []
    },
    "kernelspec": {
      "name": "python3",
      "display_name": "Python 3"
    }
  },
  "cells": [
    {
      "metadata": {
        "id": "YPHf7ilAeypU",
        "colab_type": "code",
        "colab": {}
      },
      "cell_type": "code",
      "source": [
        "import pandas as pd\n",
        "import numpy as np\n",
        "import math"
      ],
      "execution_count": 0,
      "outputs": []
    },
    {
      "metadata": {
        "id": "SsjtjO-EkjNn",
        "colab_type": "code",
        "colab": {
          "base_uri": "https://localhost:8080/",
          "height": 54
        },
        "outputId": "1d3a71a2-26a0-4ac2-d7d0-ac23464350f4"
      },
      "cell_type": "code",
      "source": [
        "from google.colab import drive\n",
        "drive.mount(\"/gdrive\")"
      ],
      "execution_count": 2,
      "outputs": [
        {
          "output_type": "stream",
          "text": [
            "Drive already mounted at /gdrive; to attempt to forcibly remount, call drive.mount(\"/gdrive\", force_remount=True).\n"
          ],
          "name": "stdout"
        }
      ]
    },
    {
      "metadata": {
        "id": "ZJjbeOO8kxLw",
        "colab_type": "code",
        "colab": {
          "base_uri": "https://localhost:8080/",
          "height": 388
        },
        "outputId": "610517b9-549f-44a6-c3e7-739ca420ccb8"
      },
      "cell_type": "code",
      "source": [
        "#loading clean preprocessed data(done in prevoius excercises)\n",
        "colleges = pd.read_csv(\"/gdrive/My Drive/colleges_cleaned.csv\")\n",
        "colleges.describe()"
      ],
      "execution_count": 3,
      "outputs": [
        {
          "output_type": "execute_result",
          "data": {
            "text/html": [
              "<div>\n",
              "<style scoped>\n",
              "    .dataframe tbody tr th:only-of-type {\n",
              "        vertical-align: middle;\n",
              "    }\n",
              "\n",
              "    .dataframe tbody tr th {\n",
              "        vertical-align: top;\n",
              "    }\n",
              "\n",
              "    .dataframe thead th {\n",
              "        text-align: right;\n",
              "    }\n",
              "</style>\n",
              "<table border=\"1\" class=\"dataframe\">\n",
              "  <thead>\n",
              "    <tr style=\"text-align: right;\">\n",
              "      <th></th>\n",
              "      <th>Unnamed: 0</th>\n",
              "      <th>Overall Rank</th>\n",
              "      <th>Undergrad. Enrollment</th>\n",
              "      <th>Admission Rate</th>\n",
              "      <th>Student/faculty Ratio</th>\n",
              "      <th>4-year Grad. Rate</th>\n",
              "      <th>6-year Grad. Rate</th>\n",
              "      <th>Quality Rank</th>\n",
              "      <th>Total Costs</th>\n",
              "      <th>Cost After Need-based Aid</th>\n",
              "      <th>Need Met</th>\n",
              "      <th>Aid From Grants</th>\n",
              "      <th>Cost After Non-Need-Based Aid</th>\n",
              "      <th>Non-Need-Based Aid+</th>\n",
              "      <th>Average Debt</th>\n",
              "      <th>Cost Rank</th>\n",
              "    </tr>\n",
              "  </thead>\n",
              "  <tbody>\n",
              "    <tr>\n",
              "      <th>count</th>\n",
              "      <td>72.000000</td>\n",
              "      <td>72.000000</td>\n",
              "      <td>72.000000</td>\n",
              "      <td>72.000000</td>\n",
              "      <td>72.000000</td>\n",
              "      <td>72.000000</td>\n",
              "      <td>72.000000</td>\n",
              "      <td>72.000000</td>\n",
              "      <td>72.000000</td>\n",
              "      <td>72.000000</td>\n",
              "      <td>72.000000</td>\n",
              "      <td>72.000000</td>\n",
              "      <td>72.000000</td>\n",
              "      <td>72.000000</td>\n",
              "      <td>72.000000</td>\n",
              "      <td>72.000000</td>\n",
              "    </tr>\n",
              "    <tr>\n",
              "      <th>mean</th>\n",
              "      <td>56.027778</td>\n",
              "      <td>56.638889</td>\n",
              "      <td>3771.375000</td>\n",
              "      <td>0.479722</td>\n",
              "      <td>0.495370</td>\n",
              "      <td>0.693194</td>\n",
              "      <td>0.803889</td>\n",
              "      <td>59.319444</td>\n",
              "      <td>0.801604</td>\n",
              "      <td>0.580527</td>\n",
              "      <td>0.924583</td>\n",
              "      <td>0.746806</td>\n",
              "      <td>0.599351</td>\n",
              "      <td>0.322639</td>\n",
              "      <td>0.543734</td>\n",
              "      <td>43.041667</td>\n",
              "    </tr>\n",
              "    <tr>\n",
              "      <th>std</th>\n",
              "      <td>27.366563</td>\n",
              "      <td>27.204652</td>\n",
              "      <td>4503.418768</td>\n",
              "      <td>0.176985</td>\n",
              "      <td>0.160915</td>\n",
              "      <td>0.160911</td>\n",
              "      <td>0.068558</td>\n",
              "      <td>25.087917</td>\n",
              "      <td>0.198884</td>\n",
              "      <td>0.173434</td>\n",
              "      <td>0.139172</td>\n",
              "      <td>0.112923</td>\n",
              "      <td>0.196497</td>\n",
              "      <td>0.252056</td>\n",
              "      <td>0.227119</td>\n",
              "      <td>28.238141</td>\n",
              "    </tr>\n",
              "    <tr>\n",
              "      <th>min</th>\n",
              "      <td>0.000000</td>\n",
              "      <td>1.000000</td>\n",
              "      <td>67.000000</td>\n",
              "      <td>0.140000</td>\n",
              "      <td>0.000000</td>\n",
              "      <td>0.000000</td>\n",
              "      <td>0.670000</td>\n",
              "      <td>4.000000</td>\n",
              "      <td>0.000000</td>\n",
              "      <td>0.000000</td>\n",
              "      <td>0.200000</td>\n",
              "      <td>0.270000</td>\n",
              "      <td>0.000000</td>\n",
              "      <td>0.010000</td>\n",
              "      <td>0.000000</td>\n",
              "      <td>1.000000</td>\n",
              "    </tr>\n",
              "    <tr>\n",
              "      <th>25%</th>\n",
              "      <td>34.750000</td>\n",
              "      <td>35.750000</td>\n",
              "      <td>1625.500000</td>\n",
              "      <td>0.340000</td>\n",
              "      <td>0.400000</td>\n",
              "      <td>0.630000</td>\n",
              "      <td>0.750000</td>\n",
              "      <td>40.750000</td>\n",
              "      <td>0.708513</td>\n",
              "      <td>0.504470</td>\n",
              "      <td>0.907500</td>\n",
              "      <td>0.700000</td>\n",
              "      <td>0.487612</td>\n",
              "      <td>0.110000</td>\n",
              "      <td>0.492894</td>\n",
              "      <td>18.750000</td>\n",
              "    </tr>\n",
              "    <tr>\n",
              "      <th>50%</th>\n",
              "      <td>59.500000</td>\n",
              "      <td>59.500000</td>\n",
              "      <td>2279.000000</td>\n",
              "      <td>0.445000</td>\n",
              "      <td>0.533333</td>\n",
              "      <td>0.720000</td>\n",
              "      <td>0.810000</td>\n",
              "      <td>60.500000</td>\n",
              "      <td>0.873636</td>\n",
              "      <td>0.581522</td>\n",
              "      <td>0.985000</td>\n",
              "      <td>0.760000</td>\n",
              "      <td>0.595649</td>\n",
              "      <td>0.255000</td>\n",
              "      <td>0.555676</td>\n",
              "      <td>39.500000</td>\n",
              "    </tr>\n",
              "    <tr>\n",
              "      <th>75%</th>\n",
              "      <td>77.250000</td>\n",
              "      <td>77.250000</td>\n",
              "      <td>4257.750000</td>\n",
              "      <td>0.627500</td>\n",
              "      <td>0.550000</td>\n",
              "      <td>0.790000</td>\n",
              "      <td>0.852500</td>\n",
              "      <td>79.250000</td>\n",
              "      <td>0.944257</td>\n",
              "      <td>0.672169</td>\n",
              "      <td>1.000000</td>\n",
              "      <td>0.802500</td>\n",
              "      <td>0.716354</td>\n",
              "      <td>0.485000</td>\n",
              "      <td>0.669924</td>\n",
              "      <td>69.250000</td>\n",
              "    </tr>\n",
              "    <tr>\n",
              "      <th>max</th>\n",
              "      <td>99.000000</td>\n",
              "      <td>100.000000</td>\n",
              "      <td>29379.000000</td>\n",
              "      <td>0.870000</td>\n",
              "      <td>1.000000</td>\n",
              "      <td>0.890000</td>\n",
              "      <td>0.950000</td>\n",
              "      <td>100.000000</td>\n",
              "      <td>1.000000</td>\n",
              "      <td>1.000000</td>\n",
              "      <td>1.000000</td>\n",
              "      <td>1.000000</td>\n",
              "      <td>1.000000</td>\n",
              "      <td>1.000000</td>\n",
              "      <td>1.000000</td>\n",
              "      <td>100.000000</td>\n",
              "    </tr>\n",
              "  </tbody>\n",
              "</table>\n",
              "</div>"
            ],
            "text/plain": [
              "       Unnamed: 0  Overall Rank  Undergrad. Enrollment  Admission Rate  \\\n",
              "count   72.000000     72.000000              72.000000       72.000000   \n",
              "mean    56.027778     56.638889            3771.375000        0.479722   \n",
              "std     27.366563     27.204652            4503.418768        0.176985   \n",
              "min      0.000000      1.000000              67.000000        0.140000   \n",
              "25%     34.750000     35.750000            1625.500000        0.340000   \n",
              "50%     59.500000     59.500000            2279.000000        0.445000   \n",
              "75%     77.250000     77.250000            4257.750000        0.627500   \n",
              "max     99.000000    100.000000           29379.000000        0.870000   \n",
              "\n",
              "       Student/faculty Ratio  4-year Grad. Rate  6-year Grad. Rate  \\\n",
              "count              72.000000          72.000000          72.000000   \n",
              "mean                0.495370           0.693194           0.803889   \n",
              "std                 0.160915           0.160911           0.068558   \n",
              "min                 0.000000           0.000000           0.670000   \n",
              "25%                 0.400000           0.630000           0.750000   \n",
              "50%                 0.533333           0.720000           0.810000   \n",
              "75%                 0.550000           0.790000           0.852500   \n",
              "max                 1.000000           0.890000           0.950000   \n",
              "\n",
              "       Quality Rank  Total Costs  Cost After Need-based Aid   Need Met  \\\n",
              "count     72.000000    72.000000                  72.000000  72.000000   \n",
              "mean      59.319444     0.801604                   0.580527   0.924583   \n",
              "std       25.087917     0.198884                   0.173434   0.139172   \n",
              "min        4.000000     0.000000                   0.000000   0.200000   \n",
              "25%       40.750000     0.708513                   0.504470   0.907500   \n",
              "50%       60.500000     0.873636                   0.581522   0.985000   \n",
              "75%       79.250000     0.944257                   0.672169   1.000000   \n",
              "max      100.000000     1.000000                   1.000000   1.000000   \n",
              "\n",
              "       Aid From Grants  Cost After Non-Need-Based Aid  Non-Need-Based Aid+  \\\n",
              "count        72.000000                      72.000000            72.000000   \n",
              "mean          0.746806                       0.599351             0.322639   \n",
              "std           0.112923                       0.196497             0.252056   \n",
              "min           0.270000                       0.000000             0.010000   \n",
              "25%           0.700000                       0.487612             0.110000   \n",
              "50%           0.760000                       0.595649             0.255000   \n",
              "75%           0.802500                       0.716354             0.485000   \n",
              "max           1.000000                       1.000000             1.000000   \n",
              "\n",
              "       Average Debt   Cost Rank  \n",
              "count     72.000000   72.000000  \n",
              "mean       0.543734   43.041667  \n",
              "std        0.227119   28.238141  \n",
              "min        0.000000    1.000000  \n",
              "25%        0.492894   18.750000  \n",
              "50%        0.555676   39.500000  \n",
              "75%        0.669924   69.250000  \n",
              "max        1.000000  100.000000  "
            ]
          },
          "metadata": {
            "tags": []
          },
          "execution_count": 3
        }
      ]
    },
    {
      "metadata": {
        "id": "MZoNNK1plXpr",
        "colab_type": "code",
        "colab": {
          "base_uri": "https://localhost:8080/",
          "height": 134
        },
        "outputId": "2c6e6c75-082e-4283-b3ad-5f07950a3843"
      },
      "cell_type": "code",
      "source": [
        "colleges.columns"
      ],
      "execution_count": 4,
      "outputs": [
        {
          "output_type": "execute_result",
          "data": {
            "text/plain": [
              "Index(['Unnamed: 0', 'Overall Rank', 'School', 'State',\n",
              "       'Undergrad. Enrollment', 'Admission Rate', '*SAT or ACT',\n",
              "       'Student/faculty Ratio', '4-year Grad. Rate', '6-year Grad. Rate',\n",
              "       'Quality Rank', 'Total Costs', 'Cost After Need-based Aid', 'Need Met',\n",
              "       'Aid From Grants', 'Cost After Non-Need-Based Aid',\n",
              "       'Non-Need-Based Aid+', 'Average Debt', 'Cost Rank'],\n",
              "      dtype='object')"
            ]
          },
          "metadata": {
            "tags": []
          },
          "execution_count": 4
        }
      ]
    },
    {
      "metadata": {
        "id": "p1lk1-8SlP6x",
        "colab_type": "code",
        "colab": {}
      },
      "cell_type": "code",
      "source": [
        "def get_transactions(attributes):\n",
        "    transactions = []\n",
        "    for i in colleges.index:\n",
        "        item_set = set()\n",
        "        for attribute in attributes:\n",
        "            item_set.add(int(10*colleges.loc[i,attribute]))\n",
        "        transactions.append(item_set)\n",
        "    return transactions"
      ],
      "execution_count": 0,
      "outputs": []
    },
    {
      "metadata": {
        "id": "KaiQ65BNltLv",
        "colab_type": "code",
        "colab": {}
      },
      "cell_type": "code",
      "source": [
        "attributes = ['6-year Grad. Rate','Total Costs','Cost After Non-Need-Based Aid',\n",
        "              'Non-Need-Based Aid+','Admission Rate']\n",
        "transactions = get_transactions(attributes)"
      ],
      "execution_count": 0,
      "outputs": []
    },
    {
      "metadata": {
        "id": "xI3oPt-Hno-0",
        "colab_type": "code",
        "colab": {
          "base_uri": "https://localhost:8080/",
          "height": 185
        },
        "outputId": "3a2e6158-29a6-4694-95e2-8ace872cb27c"
      },
      "cell_type": "code",
      "source": [
        "print(*transactions[:10],sep='\\n')"
      ],
      "execution_count": 7,
      "outputs": [
        {
          "output_type": "stream",
          "text": [
            "{1, 2, 3, 7, 8}\n",
            "{2, 3, 5, 6, 8}\n",
            "{0, 9, 2, 1}\n",
            "{8, 0, 10, 4}\n",
            "{8, 3, 4, 6}\n",
            "{1, 4, 5, 8, 9}\n",
            "{0, 9, 2, 6}\n",
            "{8, 9, 3, 7}\n",
            "{9, 3, 1}\n",
            "{0, 9, 10, 2}\n"
          ],
          "name": "stdout"
        }
      ]
    },
    {
      "metadata": {
        "id": "f6ljKEkvn8yQ",
        "colab_type": "code",
        "colab": {}
      },
      "cell_type": "code",
      "source": [
        "def create_candidates(dataset, VERBOSE=False):\n",
        "    \"\"\"Creates a list of candidate 1-itemsets from a list of transactions.\n",
        "\n",
        "    Parameters\n",
        "    ----------\n",
        "    dataset : list\n",
        "        The dataset (a list of transactions) from which to generate candidate \n",
        "        itemsets.\n",
        "\n",
        "    Returns\n",
        "    -------\n",
        "    The list of candidate itemsets (c1) passed as a frozenset (a set that is \n",
        "    immutable and hashable).\n",
        "    \"\"\"\n",
        "    c1 = [] # list of all items in the database of transactions\n",
        "    for transaction in dataset:\n",
        "        for item in transaction:\n",
        "            if not [item] in c1:\n",
        "                c1.append([item])\n",
        "    c1.sort()\n",
        "\n",
        "    if VERBOSE:\n",
        "        # Print a list of all the candidate items.\n",
        "        print (\"\" \\\n",
        "            + \"{\" \\\n",
        "            + \"\".join(str(i[0]) + \", \" for i in iter(c1)).rstrip(', ') \\\n",
        "            + \"}\")\n",
        "\n",
        "    # Map c1 to a frozenset because it will be the key of a dictionary.\n",
        "    return list(map(frozenset, c1))"
      ],
      "execution_count": 0,
      "outputs": []
    },
    {
      "metadata": {
        "id": "CnkkDIG_oDDa",
        "colab_type": "code",
        "colab": {
          "base_uri": "https://localhost:8080/",
          "height": 34
        },
        "outputId": "56d5d738-9756-4439-a577-ed1f594baa3a"
      },
      "cell_type": "code",
      "source": [
        "#generate candidate itemsets\n",
        "C1 = create_candidates(transactions,VERBOSE=True)"
      ],
      "execution_count": 9,
      "outputs": [
        {
          "output_type": "stream",
          "text": [
            "{0, 1, 2, 3, 4, 5, 6, 7, 8, 9, 10}\n"
          ],
          "name": "stdout"
        }
      ]
    },
    {
      "metadata": {
        "id": "PKblYNZQokyy",
        "colab_type": "code",
        "colab": {}
      },
      "cell_type": "code",
      "source": [
        "def support_prune(dataset, candidates, min_support, VERBOSE=False):\n",
        "    \"\"\"Returns all candidate itemsets that meet a minimum support threshold.\n",
        "\n",
        "    By the apriori principle, if an itemset is frequent, then all of its \n",
        "    subsets must also be frequent. As a result, we can perform support-based \n",
        "    pruning to systematically control the exponential growth of candidate \n",
        "    itemsets. Thus, itemsets that do not meet the minimum support level are \n",
        "    pruned from the input list of itemsets (dataset).\n",
        "\n",
        "    Parameters\n",
        "    ----------\n",
        "    dataset : list\n",
        "        The dataset (a list of transactions) from which to generate candidate \n",
        "        itemsets.\n",
        "\n",
        "    candidates : frozenset\n",
        "        The list of candidate itemsets.\n",
        "\n",
        "    min_support : float\n",
        "        The minimum support threshold.\n",
        "\n",
        "    Returns\n",
        "    -------\n",
        "    retlist : list\n",
        "        The list of frequent itemsets.\n",
        "\n",
        "    support_data : dict\n",
        "        The support data for all candidate itemsets.\n",
        "    \"\"\"\n",
        "    sscnt = {} # set for support counts\n",
        "    num_items=0\n",
        "    for tid in dataset:\n",
        "        num_items+=1\n",
        "        for candidate in candidates:\n",
        "            if candidate.issubset(tid):\n",
        "                sscnt.setdefault(candidate, 0)\n",
        "                sscnt[candidate] += 1\n",
        "\n",
        "    #num_items = 5 #len(dataset) # total number of transactions in the dataset\n",
        "    retlist = [] # array for unpruned itemsets\n",
        "    support_data = {} # set for support data for corresponding itemsets\n",
        "    for key in sscnt:\n",
        "        # Calculate the support of itemset key.\n",
        "        support = sscnt[key] / num_items\n",
        "        if support >= min_support:\n",
        "            retlist.insert(0, key)\n",
        "        support_data[key] = support\n",
        "\n",
        "    # Print a list of the pruned itemsets.\n",
        "    if VERBOSE:\n",
        "        for kset in retlist:\n",
        "            for item in kset:\n",
        "                print (\"{\" + str(item) + \"}\")\n",
        "        #print\n",
        "        for key in sscnt:\n",
        "            print (\"\" \\\n",
        "                + \"{\" \\\n",
        "                + \"\".join([str(i) + \", \" for i in iter(key)]).rstrip(', ') \\\n",
        "                + \"}\" \\\n",
        "                + \":  sup = \" + str(support_data[key]))\n",
        "\n",
        "    return retlist, support_data"
      ],
      "execution_count": 0,
      "outputs": []
    },
    {
      "metadata": {
        "id": "qdIxAM7tonGD",
        "colab_type": "code",
        "colab": {
          "base_uri": "https://localhost:8080/",
          "height": 235
        },
        "outputId": "070d8c52-c771-4a83-eb58-55a5493d2fa8"
      },
      "cell_type": "code",
      "source": [
        "F1, support_data = support_prune(transactions, C1, 0.5, VERBOSE=True)\n"
      ],
      "execution_count": 11,
      "outputs": [
        {
          "output_type": "stream",
          "text": [
            "{8}\n",
            "{7}\n",
            "{1}:  sup = 0.2361111111111111\n",
            "{2}:  sup = 0.2638888888888889\n",
            "{3}:  sup = 0.3611111111111111\n",
            "{7}:  sup = 0.5833333333333334\n",
            "{8}:  sup = 0.6111111111111112\n",
            "{5}:  sup = 0.3888888888888889\n",
            "{6}:  sup = 0.4166666666666667\n",
            "{0}:  sup = 0.2222222222222222\n",
            "{9}:  sup = 0.4166666666666667\n",
            "{4}:  sup = 0.4444444444444444\n",
            "{10}:  sup = 0.05555555555555555\n"
          ],
          "name": "stdout"
        }
      ]
    },
    {
      "metadata": {
        "id": "hPVCCZN4pJN3",
        "colab_type": "code",
        "colab": {}
      },
      "cell_type": "code",
      "source": [
        "def apriori(dataset, min_support=0.5, VERBOSE=False):\n",
        "    \"\"\"Implements the Apriori algorithm.\n",
        "\n",
        "    The Apriori algorithm will iteratively generate new candidate \n",
        "    k-itemsets using the frequent (k-1)-itemsets found in the previous \n",
        "    iteration.\n",
        "\n",
        "    Parameters\n",
        "    ----------\n",
        "    dataset : list\n",
        "        The dataset (a list of transactions) from which to generate candidate itemsets.\n",
        "\n",
        "    min_support : float\n",
        "        The minimum support threshold. Defaults to 0.5.\n",
        "\n",
        "    Returns\n",
        "    -------\n",
        "    F : list\n",
        "        The list of frequent itemsets.\n",
        "\n",
        "    support_data : dict\n",
        "        The support data for all candidate itemsets.\n",
        "\n",
        "\n",
        "    \"\"\"\n",
        "    C1 = create_candidates(dataset)\n",
        "    D = map(set, dataset)\n",
        "    F1, support_data = support_prune(dataset, C1, min_support, VERBOSE=False) # prune candidate 1-itemsets\n",
        "    print(\"f = \",F1)\n",
        "    F = [F1] # list of frequent itemsets; initialized to frequent 1-itemsets\n",
        "    k = 2 # the itemset cardinality\n",
        "    while (len(F[k - 2]) > 0):\n",
        "        Ck = apriori_gen(F[k-2], k) # generate candidate itemsets\n",
        "        #print(\"\\nCk\",Ck)\n",
        "        Fk, supK = support_prune(dataset, Ck, min_support) # prune candidate itemsets\n",
        "        #print(\"f = \",F)\n",
        "        support_data.update(supK) # update the support counts to reflect pruning\n",
        "        F.append(Fk) # add the pruned candidate itemsets to the list of frequent itemsets\n",
        "        k += 1\n",
        "\n",
        "    \n",
        "    return F, support_data\n",
        "\n",
        "def apriori_gen(freq_sets, k):\n",
        "    \"\"\"Generates candidate itemsets (via the F_k-1 x F_k-1 method).\n",
        "\n",
        "    This operation generates new candidate k-itemsets based on the frequent \n",
        "    (k-1)-itemsets found in the previous iteration. The candidate generation \n",
        "    procedure merges a pair of frequent (k-1)-itemsets only if their first k-2 \n",
        "    items are identical.\n",
        "\n",
        "    Parameters\n",
        "    ----------\n",
        "    freq_sets : list\n",
        "        The list of frequent (k-1)-itemsets.\n",
        "\n",
        "    k : integer\n",
        "        The cardinality of the current itemsets begin evaluated.\n",
        "\n",
        "    Returns\n",
        "    -------\n",
        "    retlist : list\n",
        "        The list of merged frequent itemsets.\n",
        "    \"\"\"\n",
        "    retList = [] # list of merged frequent itemsets\n",
        "    lenLk = len(freq_sets) # number of frequent itemsets\n",
        "    for i in range(lenLk):\n",
        "        for j in range(i+1, lenLk):\n",
        "            a=list(freq_sets[i])\n",
        "            b=list(freq_sets[j])\n",
        "            a.sort()\n",
        "            b.sort()\n",
        "            F1 = a[:k-2] # first k-2 items of freq_sets[i]\n",
        "            F2 = b[:k-2] # first k-2 items of freq_sets[j]\n",
        "\n",
        "            if F1 == F2: # if the first k-2 items are identical\n",
        "                # Merge the frequent itemsets.\n",
        "                retList.append(freq_sets[i] | freq_sets[j])\n",
        "\n",
        "    return list(retList)\n"
      ],
      "execution_count": 0,
      "outputs": []
    },
    {
      "metadata": {
        "id": "HvQRjhP4p0W-",
        "colab_type": "code",
        "colab": {
          "base_uri": "https://localhost:8080/",
          "height": 54
        },
        "outputId": "ebc0d9bb-1932-4370-82d3-f4aa5387f2b2"
      },
      "cell_type": "code",
      "source": [
        "# Generate all the frequent itemsets using the Apriori algorithm.\n",
        "F, support_data = apriori(transactions, min_support=0.15, VERBOSE=True)"
      ],
      "execution_count": 13,
      "outputs": [
        {
          "output_type": "stream",
          "text": [
            "f =  [frozenset({4}), frozenset({9}), frozenset({0}), frozenset({6}), frozenset({5}), frozenset({8}), frozenset({7}), frozenset({3}), frozenset({2}), frozenset({1})]\n"
          ],
          "name": "stdout"
        }
      ]
    },
    {
      "metadata": {
        "id": "Yja7FW7Os_8v",
        "colab_type": "code",
        "colab": {
          "base_uri": "https://localhost:8080/",
          "height": 54
        },
        "outputId": "d844b3e1-a3dd-4f6d-9f22-10d99c07555b"
      },
      "cell_type": "code",
      "source": [
        "print(support_data)"
      ],
      "execution_count": 14,
      "outputs": [
        {
          "output_type": "stream",
          "text": [
            "{frozenset({1}): 0.2361111111111111, frozenset({2}): 0.2638888888888889, frozenset({3}): 0.3611111111111111, frozenset({7}): 0.5833333333333334, frozenset({8}): 0.6111111111111112, frozenset({5}): 0.3888888888888889, frozenset({6}): 0.4166666666666667, frozenset({0}): 0.2222222222222222, frozenset({9}): 0.4166666666666667, frozenset({4}): 0.4444444444444444, frozenset({10}): 0.05555555555555555, frozenset({8, 7}): 0.25, frozenset({8, 3}): 0.2638888888888889, frozenset({8, 2}): 0.125, frozenset({8, 1}): 0.1527777777777778, frozenset({3, 7}): 0.1527777777777778, frozenset({2, 7}): 0.16666666666666666, frozenset({1, 7}): 0.1111111111111111, frozenset({2, 3}): 0.06944444444444445, frozenset({1, 3}): 0.06944444444444445, frozenset({1, 2}): 0.05555555555555555, frozenset({5, 6}): 0.19444444444444445, frozenset({8, 6}): 0.16666666666666666, frozenset({3, 6}): 0.1111111111111111, frozenset({2, 6}): 0.09722222222222222, frozenset({8, 5}): 0.2638888888888889, frozenset({3, 5}): 0.1111111111111111, frozenset({2, 5}): 0.041666666666666664, frozenset({0, 9}): 0.1527777777777778, frozenset({9, 2}): 0.1527777777777778, frozenset({9, 1}): 0.125, frozenset({0, 2}): 0.05555555555555555, frozenset({0, 1}): 0.013888888888888888, frozenset({0, 4}): 0.041666666666666664, frozenset({8, 4}): 0.2777777777777778, frozenset({0, 8}): 0.1527777777777778, frozenset({4, 6}): 0.2222222222222222, frozenset({3, 4}): 0.05555555555555555, frozenset({9, 4}): 0.09722222222222222, frozenset({4, 5}): 0.16666666666666666, frozenset({1, 4}): 0.06944444444444445, frozenset({9, 5}): 0.125, frozenset({8, 9}): 0.25, frozenset({1, 5}): 0.125, frozenset({9, 6}): 0.09722222222222222, frozenset({0, 6}): 0.027777777777777776, frozenset({9, 7}): 0.19444444444444445, frozenset({9, 3}): 0.18055555555555555, frozenset({0, 5}): 0.013888888888888888, frozenset({0, 3}): 0.125, frozenset({4, 7}): 0.3055555555555556, frozenset({2, 4}): 0.08333333333333333, frozenset({5, 7}): 0.19444444444444445, frozenset({6, 7}): 0.2916666666666667, frozenset({0, 7}): 0.05555555555555555, frozenset({1, 6}): 0.041666666666666664, frozenset({8, 3, 7}): 0.06944444444444445, frozenset({8, 5, 6}): 0.09722222222222222, frozenset({8, 4, 6}): 0.09722222222222222, frozenset({8, 4, 5}): 0.125, frozenset({9, 3, 7}): 0.08333333333333333, frozenset({8, 9, 3}): 0.1111111111111111, frozenset({8, 9, 7}): 0.08333333333333333, frozenset({0, 8, 9}): 0.09722222222222222, frozenset({9, 2, 7}): 0.06944444444444445, frozenset({8, 5, 7}): 0.06944444444444445, frozenset({4, 5, 7}): 0.08333333333333333, frozenset({8, 4, 7}): 0.1388888888888889, frozenset({8, 6, 7}): 0.05555555555555555, frozenset({5, 6, 7}): 0.125, frozenset({4, 6, 7}): 0.16666666666666666, frozenset({4, 5, 6}): 0.08333333333333333}\n"
          ],
          "name": "stdout"
        }
      ]
    },
    {
      "metadata": {
        "id": "7AlPs6v-raFr",
        "colab_type": "code",
        "colab": {}
      },
      "cell_type": "code",
      "source": [
        "def rules_from_conseq(freq_set, H, support_data, rules, min_confidence=0.7):\n",
        "    \"\"\"Generates a set of candidate rules.\n",
        "\n",
        "    Parameters\n",
        "    ----------\n",
        "    freq_set : frozenset\n",
        "        The complete list of frequent itemsets.\n",
        "\n",
        "    H : list\n",
        "        A list of frequent itemsets (of a particular length).\n",
        "\n",
        "    support_data : dict\n",
        "        The support data for all candidate itemsets.\n",
        "\n",
        "    rules : list\n",
        "        A potentially incomplete set of candidate rules above the minimum \n",
        "        confidence threshold.\n",
        "\n",
        "    min_confidence : float\n",
        "        The minimum confidence threshold. Defaults to 0.7.\n",
        "    \"\"\"\n",
        "    m = len(H[0])\n",
        "    if (len(freq_set) > (m+1)):\n",
        "        Hmp1 = apriori_gen(H, m+1) # generate candidate itemsets\n",
        "        Hmp1 = calc_confidence(freq_set, Hmp1,  support_data, rules, min_confidence)\n",
        "        if len(Hmp1) > 1:\n",
        "            # If there are candidate rules above the minimum confidence \n",
        "            # threshold, recurse on the list of these candidate rules.\n",
        "            rules_from_conseq(freq_set, Hmp1, support_data, rules, min_confidence)\n",
        "\n",
        "def calc_confidence(freq_set, H, support_data, rules, min_confidence=0.7, VERBOSE=False):\n",
        "    \"\"\"Evaluates the generated rules.\n",
        "\n",
        "    One measurement for quantifying the goodness of association rules is \n",
        "    confidence. The confidence for a rule 'P implies H' (P -> H) is defined as \n",
        "    the support for P and H divided by the support for P \n",
        "    (support (P|H) / support(P)), where the | symbol denotes the set union \n",
        "    (thus P|H means all the items in set P or in set H).\n",
        "\n",
        "    To calculate the confidence, we iterate through the frequent itemsets and \n",
        "    associated support data. For each frequent itemset, we divide the support \n",
        "    of the itemset by the support of the antecedent (left-hand-side of the \n",
        "    rule).\n",
        "\n",
        "    Parameters\n",
        "    ----------\n",
        "    freq_set : frozenset\n",
        "        The complete list of frequent itemsets.\n",
        "\n",
        "    H : list\n",
        "        A frequent itemset.\n",
        "\n",
        "    min_support : float\n",
        "        The minimum support threshold.\n",
        "\n",
        "    rules : list\n",
        "        A potentially incomplete set of candidate rules above the minimum \n",
        "        confidence threshold.\n",
        "\n",
        "    min_confidence : float\n",
        "        The minimum confidence threshold. Defaults to 0.7.\n",
        "\n",
        "    Returns\n",
        "    -------\n",
        "    pruned_H : list\n",
        "        The list of candidate rules above the minimum confidence threshold.\n",
        "    \"\"\"\n",
        "    pruned_H = [] # list of candidate rules above the minimum confidence threshold\n",
        "    for conseq in H: # iterate over the frequent itemsets\n",
        "        conf = support_data[freq_set] / support_data[freq_set - conseq]\n",
        "        if conf >= min_confidence:\n",
        "\n",
        "            rules.append((freq_set - conseq, conseq, conf))\n",
        "            pruned_H.append(conseq)\n",
        "\n",
        "            if VERBOSE:\n",
        "                print( \"\" \\\n",
        "                    + \"{\" \\\n",
        "                    + \"\".join([str(i) + \", \" for i in iter(freq_set-conseq)]).rstrip(', ') \\\n",
        "                    + \"}\" \\\n",
        "                    + \" ---> \" \\\n",
        "                    + \"{\" \\\n",
        "                    + \"\".join([str(i) + \", \" for i in iter(conseq)]).rstrip(', ') \\\n",
        "                    + \"}\" \\\n",
        "                    + \":  conf = \" + str(round(conf, 3)) \\\n",
        "                    + \", sup = \" + str(round(support_data[freq_set], 3)))\n",
        "\n",
        "    return pruned_H\n",
        "\n",
        "def generate_rules(F, support_data, min_confidence, VERBOSE=False):\n",
        "    \"\"\"Generates a set of candidate rules from a list of frequent itemsets.\n",
        "\n",
        "    For each frequent itemset, we calculate the confidence of using a\n",
        "    particular item as the rule consequent (right-hand-side of the rule). By \n",
        "    testing and merging the remaining rules, we recursively create a list of \n",
        "    pruned rules.\n",
        "\n",
        "    Parameters\n",
        "    ----------\n",
        "    F : list\n",
        "        A list of frequent itemsets.\n",
        "\n",
        "    support_data : dict\n",
        "        The corresponding support data for the frequent itemsets (L).\n",
        "\n",
        "    min_confidence : float\n",
        "        The minimum confidence threshold. Defaults to 0.7.\n",
        "\n",
        "    Returns\n",
        "    -------\n",
        "    rules : list\n",
        "        The list of candidate rules above the minimum confidence threshold.\n",
        "    \"\"\"\n",
        "    rules = []\n",
        "    for i in range(1, len(F)):\n",
        "        for freq_set in F[i]:\n",
        "            H1 = [frozenset([item]) for item in freq_set]\n",
        "\n",
        "            if (i > 1):\n",
        "                rules_from_conseq(freq_set, H1, support_data, rules, min_confidence)\n",
        "            else:\n",
        "                calc_confidence(freq_set, H1, support_data, rules, min_confidence, VERBOSE=VERBOSE)\n",
        "\n",
        "    return rules"
      ],
      "execution_count": 0,
      "outputs": []
    },
    {
      "metadata": {
        "id": "EW73GqEJrdUP",
        "colab_type": "code",
        "colab": {
          "base_uri": "https://localhost:8080/",
          "height": 689
        },
        "outputId": "ae52217e-894f-442f-efc4-caddf9790957"
      },
      "cell_type": "code",
      "source": [
        "# Generate the association rules from a list of frequent itemsets.\n",
        "H = generate_rules(F, support_data, min_confidence=0.01, VERBOSE=True)"
      ],
      "execution_count": 16,
      "outputs": [
        {
          "output_type": "stream",
          "text": [
            "{7} ---> {6}:  conf = 0.5, sup = 0.292\n",
            "{6} ---> {7}:  conf = 0.7, sup = 0.292\n",
            "{7} ---> {5}:  conf = 0.333, sup = 0.194\n",
            "{5} ---> {7}:  conf = 0.5, sup = 0.194\n",
            "{7} ---> {4}:  conf = 0.524, sup = 0.306\n",
            "{4} ---> {7}:  conf = 0.688, sup = 0.306\n",
            "{3} ---> {9}:  conf = 0.5, sup = 0.181\n",
            "{9} ---> {3}:  conf = 0.433, sup = 0.181\n",
            "{7} ---> {9}:  conf = 0.333, sup = 0.194\n",
            "{9} ---> {7}:  conf = 0.467, sup = 0.194\n",
            "{9} ---> {8}:  conf = 0.6, sup = 0.25\n",
            "{8} ---> {9}:  conf = 0.409, sup = 0.25\n",
            "{5} ---> {4}:  conf = 0.429, sup = 0.167\n",
            "{4} ---> {5}:  conf = 0.375, sup = 0.167\n",
            "{6} ---> {4}:  conf = 0.533, sup = 0.222\n",
            "{4} ---> {6}:  conf = 0.5, sup = 0.222\n",
            "{8} ---> {0}:  conf = 0.25, sup = 0.153\n",
            "{0} ---> {8}:  conf = 0.688, sup = 0.153\n",
            "{4} ---> {8}:  conf = 0.625, sup = 0.278\n",
            "{8} ---> {4}:  conf = 0.455, sup = 0.278\n",
            "{2} ---> {9}:  conf = 0.579, sup = 0.153\n",
            "{9} ---> {2}:  conf = 0.367, sup = 0.153\n",
            "{9} ---> {0}:  conf = 0.367, sup = 0.153\n",
            "{0} ---> {9}:  conf = 0.688, sup = 0.153\n",
            "{5} ---> {8}:  conf = 0.679, sup = 0.264\n",
            "{8} ---> {5}:  conf = 0.432, sup = 0.264\n",
            "{6} ---> {8}:  conf = 0.4, sup = 0.167\n",
            "{8} ---> {6}:  conf = 0.273, sup = 0.167\n",
            "{6} ---> {5}:  conf = 0.467, sup = 0.194\n",
            "{5} ---> {6}:  conf = 0.5, sup = 0.194\n",
            "{7} ---> {2}:  conf = 0.286, sup = 0.167\n",
            "{2} ---> {7}:  conf = 0.632, sup = 0.167\n",
            "{7} ---> {3}:  conf = 0.262, sup = 0.153\n",
            "{3} ---> {7}:  conf = 0.423, sup = 0.153\n",
            "{1} ---> {8}:  conf = 0.647, sup = 0.153\n",
            "{8} ---> {1}:  conf = 0.25, sup = 0.153\n",
            "{3} ---> {8}:  conf = 0.731, sup = 0.264\n",
            "{8} ---> {3}:  conf = 0.432, sup = 0.264\n",
            "{7} ---> {8}:  conf = 0.429, sup = 0.25\n",
            "{8} ---> {7}:  conf = 0.409, sup = 0.25\n"
          ],
          "name": "stdout"
        }
      ]
    },
    {
      "metadata": {
        "id": "XoIZXRd6wl8U",
        "colab_type": "code",
        "colab": {
          "base_uri": "https://localhost:8080/",
          "height": 185
        },
        "outputId": "14108be7-4ce1-420d-cc2e-9e15e4a8aaa1"
      },
      "cell_type": "code",
      "source": [
        "H = sorted(H, key=lambda x:x[2], reverse = True)\n",
        "print(*H[:10],sep='\\n')"
      ],
      "execution_count": 19,
      "outputs": [
        {
          "output_type": "stream",
          "text": [
            "(frozenset({3}), frozenset({8}), 0.7307692307692308)\n",
            "(frozenset({6}), frozenset({7}), 0.7000000000000001)\n",
            "(frozenset({4}), frozenset({7}), 0.6875000000000001)\n",
            "(frozenset({0}), frozenset({8}), 0.6875000000000001)\n",
            "(frozenset({0}), frozenset({9}), 0.6875000000000001)\n",
            "(frozenset({5}), frozenset({8}), 0.6785714285714286)\n",
            "(frozenset({1}), frozenset({8}), 0.6470588235294118)\n",
            "(frozenset({2}), frozenset({7}), 0.631578947368421)\n",
            "(frozenset({4}), frozenset({8}), 0.6250000000000001)\n",
            "(frozenset({9}), frozenset({8}), 0.6)\n"
          ],
          "name": "stdout"
        }
      ]
    }
  ]
}