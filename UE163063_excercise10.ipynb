{
  "nbformat": 4,
  "nbformat_minor": 0,
  "metadata": {
    "colab": {
      "name": "UE163063_excercise10.ipynb",
      "version": "0.3.2",
      "provenance": []
    },
    "kernelspec": {
      "name": "python3",
      "display_name": "Python 3"
    }
  },
  "cells": [
    {
      "metadata": {
        "id": "E-V7M7mFCJ5L",
        "colab_type": "code",
        "colab": {}
      },
      "cell_type": "code",
      "source": [
        "import random\n",
        "import numpy as np\n",
        "import pandas as pd\n",
        "from sklearn import datasets"
      ],
      "execution_count": 0,
      "outputs": []
    },
    {
      "metadata": {
        "id": "AhZFNlzcC4Kp",
        "colab_type": "code",
        "colab": {}
      },
      "cell_type": "code",
      "source": [
        "from sklearn.neighbors import KNeighborsClassifier\n",
        "from sklearn.svm import SVC\n",
        "from sklearn.tree import DecisionTreeClassifier\n",
        "from sklearn import metrics\n",
        "from sklearn.gaussian_process import GaussianProcessClassifier\n",
        "from sklearn.gaussian_process.kernels import RBF\n",
        "from sklearn.ensemble import RandomForestClassifier, AdaBoostClassifier\n",
        "from sklearn.neural_network import MLPClassifier\n",
        "from sklearn.naive_bayes import GaussianNB\n",
        "from sklearn.discriminant_analysis import QuadraticDiscriminantAnalysis"
      ],
      "execution_count": 0,
      "outputs": []
    },
    {
      "metadata": {
        "id": "qY_Gf22eFbFf",
        "colab_type": "code",
        "colab": {}
      },
      "cell_type": "code",
      "source": [
        "def split_dataset(dataset):\n",
        "    num_train,_ = dataset.data.shape\n",
        "\n",
        "    indices = np.random.choice(num_train, num_train)\n",
        "    train_X = dataset.data[indices[:-30]].astype(\"float32\")\n",
        "    train_y = dataset.target[indices[:-30]]\n",
        "    test_X = dataset.data[indices[-30:]].astype(\"float32\")\n",
        "    test_y = dataset.target[indices[-30:]]\n",
        "\n",
        "    print(train_X.shape)\n",
        "    print(train_y.shape)\n",
        "    print(test_X.shape)\n",
        "    print(test_y.shape)\n",
        "    return (train_X,train_y,test_X,test_y)"
      ],
      "execution_count": 0,
      "outputs": []
    },
    {
      "metadata": {
        "id": "wP5nYfbwsweE",
        "colab_type": "code",
        "colab": {}
      },
      "cell_type": "code",
      "source": [
        "def train_test(clf,train_X,train_y,test_X,test_y):\n",
        "    clf.fit(train_X,train_y)\n",
        "    pred = clf.predict(test_X)\n",
        "    score = metrics.accuracy_score(test_y,pred)\n",
        "    return score"
      ],
      "execution_count": 0,
      "outputs": []
    },
    {
      "metadata": {
        "id": "y-RYIPuttM07",
        "colab_type": "code",
        "colab": {}
      },
      "cell_type": "code",
      "source": [
        "knn = KNeighborsClassifier(n_neighbors=3)\n",
        "svc_lin = SVC(kernel=\"linear\", C=0.25)\n",
        "svc_gamma = SVC(gamma=2, C=1)\n",
        "gauss = GaussianProcessClassifier()\n",
        "dt = DecisionTreeClassifier(max_depth=5)\n",
        "rf = RandomForestClassifier(max_depth=5, n_estimators=10, max_features=1)\n",
        "mlp = MLPClassifier(alpha=1)\n",
        "ada = AdaBoostClassifier()\n",
        "gauss_nb = GaussianNB()\n",
        "quad = QuadraticDiscriminantAnalysis()"
      ],
      "execution_count": 0,
      "outputs": []
    },
    {
      "metadata": {
        "id": "WaOAVi5gxmtD",
        "colab_type": "code",
        "colab": {
          "base_uri": "https://localhost:8080/",
          "height": 85
        },
        "outputId": "235eec71-afa3-47bd-a565-c660e41f357c"
      },
      "cell_type": "code",
      "source": [
        "iris = datasets.load_iris()\n",
        "train_X, train_y,test_X,test_y = split_dataset(iris)"
      ],
      "execution_count": 6,
      "outputs": [
        {
          "output_type": "stream",
          "text": [
            "(120, 4)\n",
            "(120,)\n",
            "(30, 4)\n",
            "(30,)\n"
          ],
          "name": "stdout"
        }
      ]
    },
    {
      "metadata": {
        "id": "bMkO1kjDx3jh",
        "colab_type": "code",
        "colab": {
          "base_uri": "https://localhost:8080/",
          "height": 258
        },
        "outputId": "9a2c222d-3ea9-48bf-a507-6623abe7b88f"
      },
      "cell_type": "code",
      "source": [
        "print(\"Iris dataset\")\n",
        "print(f\"knn : {train_test(knn,train_X,train_y,test_X,test_y)}\")\n",
        "print(f\"svc linear: {train_test(svc_lin,train_X,train_y,test_X,test_y)}\")\n",
        "print(f\"svc gamma : {train_test(svc_gamma,train_X,train_y,test_X,test_y)}\")\n",
        "print(f\"gaussian process : {train_test(gauss,train_X,train_y,test_X,test_y)}\")\n",
        "print(f\"decisison tree : {train_test(dt,train_X,train_y,test_X,test_y)}\")\n",
        "print(f\"rainforest : {train_test(rf,train_X,train_y,test_X,test_y)}\")\n",
        "print(f\"mlp : {train_test(mlp,train_X,train_y,test_X,test_y)}\")\n",
        "print(f\"ada boost : {train_test(ada,train_X,train_y,test_X,test_y)}\")\n",
        "print(f\"gauss_nb : {train_test(gauss_nb,train_X,train_y,test_X,test_y)}\")\n",
        "print(f\"QDA : {train_test(quad,train_X,train_y,test_X,test_y)}\")\n"
      ],
      "execution_count": 7,
      "outputs": [
        {
          "output_type": "stream",
          "text": [
            "Iris dataset\n",
            "knn : 1.0\n",
            "svc linear: 0.9666666666666667\n",
            "svc gamma : 1.0\n",
            "gaussian process : 0.9666666666666667\n",
            "decisison tree : 1.0\n",
            "rainforest : 1.0\n",
            "mlp : 0.9666666666666667\n",
            "ada boost : 1.0\n",
            "gauss_nb : 0.9\n",
            "QDA : 1.0\n"
          ],
          "name": "stdout"
        },
        {
          "output_type": "stream",
          "text": [
            "/usr/local/lib/python3.6/dist-packages/sklearn/neural_network/multilayer_perceptron.py:562: ConvergenceWarning: Stochastic Optimizer: Maximum iterations (200) reached and the optimization hasn't converged yet.\n",
            "  % self.max_iter, ConvergenceWarning)\n"
          ],
          "name": "stderr"
        }
      ]
    },
    {
      "metadata": {
        "id": "JOaTl0qR1aHI",
        "colab_type": "code",
        "colab": {
          "base_uri": "https://localhost:8080/",
          "height": 85
        },
        "outputId": "2eb68020-f424-43f7-d5f5-1c9394bd2931"
      },
      "cell_type": "code",
      "source": [
        "digits = datasets.load_digits()\n",
        "train_X, train_y,test_X,test_y = split_dataset(digits)"
      ],
      "execution_count": 8,
      "outputs": [
        {
          "output_type": "stream",
          "text": [
            "(1767, 64)\n",
            "(1767,)\n",
            "(30, 64)\n",
            "(30,)\n"
          ],
          "name": "stdout"
        }
      ]
    },
    {
      "metadata": {
        "id": "fvnXgKN12Oo7",
        "colab_type": "code",
        "colab": {
          "base_uri": "https://localhost:8080/",
          "height": 292
        },
        "outputId": "033d8651-be58-4f21-83e6-dbd10f0b1db5"
      },
      "cell_type": "code",
      "source": [
        "print(\"Digits dataset\")\n",
        "print(f\"knn : {train_test(knn,train_X,train_y,test_X,test_y)}\")\n",
        "print(f\"svc linear: {train_test(svc_lin,train_X,train_y,test_X,test_y)}\")\n",
        "print(f\"svc gamma : {train_test(svc_gamma,train_X,train_y,test_X,test_y)}\")\n",
        "print(f\"gaussian process : {train_test(gauss,train_X,train_y,test_X,test_y)}\")\n",
        "print(f\"decisison tree : {train_test(dt,train_X,train_y,test_X,test_y)}\")\n",
        "print(f\"rainforest : {train_test(rf,train_X,train_y,test_X,test_y)}\")\n",
        "print(f\"mlp : {train_test(mlp,train_X,train_y,test_X,test_y)}\")\n",
        "print(f\"ada boost : {train_test(ada,train_X,train_y,test_X,test_y)}\")\n",
        "print(f\"gauss_nb : {train_test(gauss_nb,train_X,train_y,test_X,test_y)}\")\n",
        "print(f\"QDA : {train_test(quad,train_X,train_y,test_X,test_y)}\")"
      ],
      "execution_count": 9,
      "outputs": [
        {
          "output_type": "stream",
          "text": [
            "Digits dataset\n",
            "knn : 1.0\n",
            "svc linear: 1.0\n",
            "svc gamma : 0.6333333333333333\n",
            "gaussian process : 0.6333333333333333\n",
            "decisison tree : 0.8666666666666667\n",
            "rainforest : 0.8333333333333334\n"
          ],
          "name": "stdout"
        },
        {
          "output_type": "stream",
          "text": [
            "/usr/local/lib/python3.6/dist-packages/sklearn/neural_network/multilayer_perceptron.py:562: ConvergenceWarning: Stochastic Optimizer: Maximum iterations (200) reached and the optimization hasn't converged yet.\n",
            "  % self.max_iter, ConvergenceWarning)\n"
          ],
          "name": "stderr"
        },
        {
          "output_type": "stream",
          "text": [
            "mlp : 1.0\n",
            "ada boost : 0.2\n",
            "gauss_nb : 0.9\n",
            "QDA : 0.7\n"
          ],
          "name": "stdout"
        },
        {
          "output_type": "stream",
          "text": [
            "/usr/local/lib/python3.6/dist-packages/sklearn/discriminant_analysis.py:692: UserWarning: Variables are collinear\n",
            "  warnings.warn(\"Variables are collinear\")\n"
          ],
          "name": "stderr"
        }
      ]
    },
    {
      "metadata": {
        "id": "mwlJD6i-inIs",
        "colab_type": "code",
        "outputId": "0d0abc69-ca56-4c58-b011-1ded79bd015b",
        "colab": {
          "base_uri": "https://localhost:8080/",
          "height": 34
        }
      },
      "cell_type": "code",
      "source": [
        "boston = datasets.load_boston()\n",
        "boston.keys()"
      ],
      "execution_count": 10,
      "outputs": [
        {
          "output_type": "execute_result",
          "data": {
            "text/plain": [
              "dict_keys(['data', 'target', 'feature_names', 'DESCR', 'filename'])"
            ]
          },
          "metadata": {
            "tags": []
          },
          "execution_count": 10
        }
      ]
    },
    {
      "metadata": {
        "id": "8a_K72L65RIH",
        "colab_type": "code",
        "colab": {
          "base_uri": "https://localhost:8080/",
          "height": 34
        },
        "outputId": "0e89ce29-c5eb-40bc-ae07-1c2f8c82d20f"
      },
      "cell_type": "code",
      "source": [
        "boston.target.shape"
      ],
      "execution_count": 11,
      "outputs": [
        {
          "output_type": "execute_result",
          "data": {
            "text/plain": [
              "(506,)"
            ]
          },
          "metadata": {
            "tags": []
          },
          "execution_count": 11
        }
      ]
    },
    {
      "metadata": {
        "id": "YzQpxwE3jGAY",
        "colab_type": "code",
        "outputId": "4aa58872-9318-430b-e6a9-d0c786df12b5",
        "colab": {
          "base_uri": "https://localhost:8080/",
          "height": 170
        }
      },
      "cell_type": "code",
      "source": [
        "pd.Series(boston.target).describe()"
      ],
      "execution_count": 12,
      "outputs": [
        {
          "output_type": "execute_result",
          "data": {
            "text/plain": [
              "count    506.000000\n",
              "mean      22.532806\n",
              "std        9.197104\n",
              "min        5.000000\n",
              "25%       17.025000\n",
              "50%       21.200000\n",
              "75%       25.000000\n",
              "max       50.000000\n",
              "dtype: float64"
            ]
          },
          "metadata": {
            "tags": []
          },
          "execution_count": 12
        }
      ]
    },
    {
      "metadata": {
        "id": "rkUQ6O3zjKYU",
        "colab_type": "code",
        "colab": {}
      },
      "cell_type": "code",
      "source": [
        "#pd.Series(boston.target).describe()\n",
        "def get_range(val):\n",
        "    if 5<=val<17:\n",
        "        return 1\n",
        "    elif 17<=val<21:\n",
        "        return 2\n",
        "    elif 21<=val<25:\n",
        "        return 3\n",
        "    elif 25<=val<=50:\n",
        "        return 4\n"
      ],
      "execution_count": 0,
      "outputs": []
    },
    {
      "metadata": {
        "id": "1uJWhwo4j0-l",
        "colab_type": "code",
        "colab": {}
      },
      "cell_type": "code",
      "source": [
        "def discretize(attribute):\n",
        "    new_attribute = []\n",
        "    for val in attribute:\n",
        "        new_attribute.append(get_range(val))\n",
        "    return new_attribute\n"
      ],
      "execution_count": 0,
      "outputs": []
    },
    {
      "metadata": {
        "id": "uImbbMOXmTOY",
        "colab_type": "code",
        "colab": {
          "base_uri": "https://localhost:8080/",
          "height": 34
        },
        "outputId": "15679dbb-5ed0-42ec-c223-758fba59d119"
      },
      "cell_type": "code",
      "source": [
        "boston.target = np.array(discretize(boston.target))\n",
        "print(set(boston.target))\n"
      ],
      "execution_count": 15,
      "outputs": [
        {
          "output_type": "stream",
          "text": [
            "{1, 2, 3, 4}\n"
          ],
          "name": "stdout"
        }
      ]
    },
    {
      "metadata": {
        "id": "_XGojdEimcxH",
        "colab_type": "code",
        "outputId": "52ad2def-e7a7-4953-de0e-fb366a00ad70",
        "colab": {
          "base_uri": "https://localhost:8080/",
          "height": 85
        }
      },
      "cell_type": "code",
      "source": [
        "train_X,train_y,test_X,test_y = split_dataset(boston)"
      ],
      "execution_count": 16,
      "outputs": [
        {
          "output_type": "stream",
          "text": [
            "(476, 13)\n",
            "(476,)\n",
            "(30, 13)\n",
            "(30,)\n"
          ],
          "name": "stdout"
        }
      ]
    },
    {
      "metadata": {
        "id": "6bvVXdPg5qrQ",
        "colab_type": "code",
        "colab": {
          "base_uri": "https://localhost:8080/",
          "height": 204
        },
        "outputId": "aa9b762a-0c9d-47c4-fc61-7128d04ded98"
      },
      "cell_type": "code",
      "source": [
        "print(\"Boston dataset\")\n",
        "print(f\"knn : {train_test(knn,train_X,train_y,test_X,test_y)}\")\n",
        "print(f\"svc linear: {train_test(svc_lin,train_X,train_y,test_X,test_y)}\")\n",
        "print(f\"svc gamma : {train_test(svc_gamma,train_X,train_y,test_X,test_y)}\")\n",
        "print(f\"gaussian process : {train_test(gauss,train_X,train_y,test_X,test_y)}\")\n",
        "print(f\"decisison tree : {train_test(dt,train_X,train_y,test_X,test_y)}\")\n",
        "print(f\"rainforest : {train_test(rf,train_X,train_y,test_X,test_y)}\")\n",
        "print(f\"mlp : {train_test(mlp,train_X,train_y,test_X,test_y)}\")\n",
        "print(f\"ada boost : {train_test(ada,train_X,train_y,test_X,test_y)}\")\n",
        "print(f\"gauss_nb : {train_test(gauss_nb,train_X,train_y,test_X,test_y)}\")\n",
        "print(f\"QDA : {train_test(quad,train_X,train_y,test_X,test_y)}\")"
      ],
      "execution_count": 17,
      "outputs": [
        {
          "output_type": "stream",
          "text": [
            "Boston dataset\n",
            "knn : 0.7\n",
            "svc linear: 0.7333333333333333\n",
            "svc gamma : 0.5666666666666667\n",
            "gaussian process : 0.6666666666666666\n",
            "decisison tree : 0.6666666666666666\n",
            "rainforest : 0.6333333333333333\n",
            "mlp : 0.6\n",
            "ada boost : 0.43333333333333335\n",
            "gauss_nb : 0.5333333333333333\n",
            "QDA : 0.6333333333333333\n"
          ],
          "name": "stdout"
        }
      ]
    }
  ]
}