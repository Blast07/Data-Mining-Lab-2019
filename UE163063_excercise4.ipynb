{
  "nbformat": 4,
  "nbformat_minor": 0,
  "metadata": {
    "colab": {
      "name": "UE163063_excercise4.ipynb",
      "version": "0.3.2",
      "provenance": []
    },
    "kernelspec": {
      "name": "python3",
      "display_name": "Python 3"
    }
  },
  "cells": [
    {
      "metadata": {
        "id": "1LF1Qi3fnK3L",
        "colab_type": "text"
      },
      "cell_type": "markdown",
      "source": [
        "Question 1: Calculate Word Frequencies. Take a set of sentences in a string as an input. Count each unique occurrence of a word and calculate frequency of occurrence and store in a dictionary. Produce a frequency table.\n",
        "Hint: Iterate through the string, placing the words into a dict. The first time a word is seen, the frequency is 1. Each time the word is seen again, increment the frequency. "
      ]
    },
    {
      "metadata": {
        "id": "YMoNX-EjnIQn",
        "colab_type": "code",
        "outputId": "ca2187d6-808a-4841-aa43-dac92a9bec18",
        "colab": {
          "base_uri": "https://localhost:8080/",
          "height": 187
        }
      },
      "cell_type": "code",
      "source": [
        "import re\n",
        "\n",
        "def word_frequency(words):\n",
        "    word_freq = {}\n",
        "    for word in words:\n",
        "        match = re.search(r\"[\\W]+$\",word)\n",
        "        if(match):\n",
        "            word = word[:-len(match.group())]\n",
        "        if (len(word)):\n",
        "          if (word_freq.get(word)):\n",
        "            word_freq[word] +=1\n",
        "          else:\n",
        "            word_freq[word] = 1\n",
        "    return word_freq\n",
        "  \n",
        "words = input().split()\n",
        "\n",
        "word_freq = word_frequency(words)\n",
        "print(*[f\"{k}:{v}\" for k,v in word_freq.items()],sep=\"\\n\")"
      ],
      "execution_count": 0,
      "outputs": [
        {
          "output_type": "stream",
          "text": [
            "this is a sentence,,,, this is another sentence... one more sentence and last one\n",
            "this:2\n",
            "is:2\n",
            "a:1\n",
            "sentence:3\n",
            "another:1\n",
            "one:2\n",
            "more:1\n",
            "and:1\n",
            "last:1\n"
          ],
          "name": "stdout"
        }
      ]
    },
    {
      "metadata": {
        "id": "WvCUP1hXrCtH",
        "colab_type": "text"
      },
      "cell_type": "markdown",
      "source": [
        "Question 2:Result Calculation. Create a dictionary and a list like following.\n",
        "\n",
        "Student = { 'UE183001': 'Avish', 'UE183002': 'Bhavya', 'UE183003': 'Tanya' } Add atleast 10 students\n",
        "Marks = [('UE183001', 'CS', 94 ), ('UE183002', 'CS', 64 ), ('UE183001', 'RV', 94), ('UE183002', 'CS', 74), \n",
        "  ('UE183003', 'CS', 64)] Add some more values\n",
        "Find total marks of each students and display full name of student with total marks secured. This is the basic relational database join algorithm between two tables."
      ]
    },
    {
      "metadata": {
        "id": "eD8VDA3Np2wZ",
        "colab_type": "code",
        "outputId": "2e446a08-362c-4782-ee6f-b18b58e2508a",
        "colab": {
          "base_uri": "https://localhost:8080/",
          "height": 136
        }
      },
      "cell_type": "code",
      "source": [
        "def total_marks(students, marks):\n",
        "    tot_mark = {}\n",
        "    for mark in marks:\n",
        "        if(tot_mark.get(mark[0])):\n",
        "            tot_mark[mark[0]][1] += mark[2]\n",
        "        else: tot_mark[mark[0]] = [students[mark[0]], mark[2]]\n",
        "    return tot_mark\n",
        "\n",
        "students = {'UE163063':'NAMAN','UE163065':'NIKHIL',\n",
        "            'UE163066':'OJASVI','UE163074':'RAHUL',\n",
        "            'UE163076':'REHAN', 'UE163110':'VAIBHAV',\n",
        "            'UE163115':'VISHAL'}\n",
        "\n",
        "marks = [('UE163063','CS',100), ('UE163063','CN',80),\n",
        "         ('UE163065','CS',80), ('UE163065','CN',80),\n",
        "         ('UE163066','CS',10), ('UE163066','CN',20),\n",
        "         ('UE163074','CS',100), ('UE163074','CN',90),\n",
        "         ('UE163076','CS',80), ('UE163076','CN',90),\n",
        "         ('UE163110','CS',40), ('UE163110','CN',70),\n",
        "         ('UE163115','CS',30), ('UE163115','CN',33)]\n",
        "\"\"\"\n",
        "#FOR USER INPUT\n",
        "for i in range(int(input(\"Enter number of students:\"))):\n",
        "    roll, name = input(f\"Student {i+1}:\").split()\n",
        "    students[roll] = name\n",
        "    \n",
        "marks = [input(f\"marks {i+1}:\").strip().split(',') for i in range(int(input(\"Enter number of entries:\")))]\n",
        "marks = list(map(lambda x:(x[0], x[1], int(x[2])), marks))\n",
        "\"\"\"\n",
        "tot_mark = total_marks(students, marks)\n",
        "print(*[f\"{v[0]}:{v[1]}\" for k,v in tot_mark.items()],sep=\"\\n\")\n"
      ],
      "execution_count": 0,
      "outputs": [
        {
          "output_type": "stream",
          "text": [
            "NAMAN:180\n",
            "NIKHIL:160\n",
            "OJASVI:30\n",
            "RAHUL:190\n",
            "REHAN:170\n",
            "VAIBHAV:110\n",
            "VISHAL:63\n"
          ],
          "name": "stdout"
        }
      ]
    },
    {
      "metadata": {
        "id": "FzmN8Uo-zeCg",
        "colab_type": "text"
      },
      "cell_type": "markdown",
      "source": [
        "Question 3: A date of the form 8-MAR-85 includes the name of the month, which must be translated to a number. Create a dict suitable for decoding month names to numbers. Create a function which uses string operations to split the date into 3 items using the \"-\" character. Translate the month, correct the year to include all of the digits.\n",
        "The function will accept a date in the \"dd-MMM-yy\" format and respond with a tuple of ( y , m , d )."
      ]
    },
    {
      "metadata": {
        "id": "Aia_R2uHzd2n",
        "colab_type": "code",
        "outputId": "3fced497-aca7-4a0b-bc97-2ed12a499673",
        "colab": {
          "base_uri": "https://localhost:8080/",
          "height": 156
        }
      },
      "cell_type": "code",
      "source": [
        " \n",
        "months ={'JAN':1, 'FEB':2, 'MAR':3, 'APR':4,\n",
        "          'MAY':5, 'JUN':6, 'JUL':7, 'AUG':8,\n",
        "          'SEP':9, 'OCT':10, 'NOV':11, 'DEC':12}\n",
        "\n",
        "def date_translate(date_list):\n",
        "  d, m, y = date_list\n",
        "  month = months[m]\n",
        "  if int(y[0]) <= 1:\n",
        "      year = f\"20{y}\"\n",
        "  else:\n",
        "      year = f\"19{y}\"\n",
        "  return (year, month, d)\n",
        "    \n",
        "  \n",
        "  \n",
        "print(date_translate(input(\"Enter date:\").split('-')))\n",
        "print(date_translate(input(\"Enter date:\").split('-')))\n",
        "print(date_translate(input(\"Enter date:\").split('-')))\n",
        "print(date_translate(input(\"Enter date:\").split('-')))\n",
        "\n",
        " \n",
        "  "
      ],
      "execution_count": 0,
      "outputs": [
        {
          "output_type": "stream",
          "text": [
            "Enter date:8-MAR-85\n",
            "('1985', 3, '8')\n",
            "Enter date:10-MAR-90\n",
            "('1990', 3, '10')\n",
            "Enter date:1-DEC-12\n",
            "('2012', 12, '1')\n",
            "Enter date:4-FEB-98\n",
            "('1998', 2, '4')\n"
          ],
          "name": "stdout"
        }
      ]
    },
    {
      "metadata": {
        "id": "6Sx_LNTO3pyd",
        "colab_type": "text"
      },
      "cell_type": "markdown",
      "source": [
        "Question 4: Dice Odds. There are 36 possible combinations of two dice. A sim→ple pair of loops over range(6)+1 will enumerate all combinations. The sum of the two dice is more interesting than the actual combination. Create a dict of all combinations, using the sum of the two dice as the key. Each value in the dict should be a list of tuples; each tuple has the value of two dice."
      ]
    },
    {
      "metadata": {
        "id": "Y7G0-TEl2N2z",
        "colab_type": "code",
        "outputId": "b4791b50-def8-42a2-8643-610a6a93e15d",
        "colab": {
          "base_uri": "https://localhost:8080/",
          "height": 208
        }
      },
      "cell_type": "code",
      "source": [
        "dice_combinations={}\n",
        "for i in range(1,7):\n",
        "  for j in range(1,7):\n",
        "    if(dice_combinations.get(i+j)):\n",
        "        dice_combinations[i+j].append((i,j))\n",
        "    else:\n",
        "        dice_combinations[i+j] = [(i,j)]\n",
        "print(*[f\"{k}:{v}\" for k,v in dice_combinations.items()],sep='\\n')\n",
        "    "
      ],
      "execution_count": 0,
      "outputs": [
        {
          "output_type": "stream",
          "text": [
            "2:[(1, 1)]\n",
            "3:[(1, 2), (2, 1)]\n",
            "4:[(1, 3), (2, 2), (3, 1)]\n",
            "5:[(1, 4), (2, 3), (3, 2), (4, 1)]\n",
            "6:[(1, 5), (2, 4), (3, 3), (4, 2), (5, 1)]\n",
            "7:[(1, 6), (2, 5), (3, 4), (4, 3), (5, 2), (6, 1)]\n",
            "8:[(2, 6), (3, 5), (4, 4), (5, 3), (6, 2)]\n",
            "9:[(3, 6), (4, 5), (5, 4), (6, 3)]\n",
            "10:[(4, 6), (5, 5), (6, 4)]\n",
            "11:[(5, 6), (6, 5)]\n",
            "12:[(6, 6)]\n"
          ],
          "name": "stdout"
        }
      ]
    }
  ]
}